{
 "cells": [
  {
   "cell_type": "markdown",
   "id": "41477e7f-80a5-4c94-b7a3-c32998467b36",
   "metadata": {},
   "source": [
    "# AI Essay Generation\n",
    "\n",
    "Investigation into the data provided as part of the [Kaggle Competition to detect AI generated essays](https://www.kaggle.com/competitions/llm-detect-ai-generated-text/overview). The given training dataset consists predominantly of student-written essays, with only a few LLM generated examples."
   ]
  },
  {
   "cell_type": "code",
   "execution_count": 151,
   "id": "6e0e241e-2d36-4d2f-9039-7c2c1252ee6b",
   "metadata": {},
   "outputs": [],
   "source": [
    "import numpy as np\n",
    "import pandas as pd\n",
    "import matplotlib.pyplot as plt\n",
    "\n",
    "from transformers import (\n",
    "    GPT2LMHeadModel, \n",
    "    GPT2TokenizerFast, \n",
    "    pipeline,\n",
    "    AutoModelForSeq2SeqLM, \n",
    "    AutoTokenizer\n",
    ")\n",
    "\n",
    "from pathlib import Path\n",
    "from os import getenv"
   ]
  },
  {
   "cell_type": "code",
   "execution_count": 54,
   "id": "34acabbe-e12a-4b09-ad82-d6276c52c18f",
   "metadata": {},
   "outputs": [],
   "source": [
    "def process_prompt(prompt):\n",
    "    \"\"\"\n",
    "    Get prompt in a form that is easy to rewrite for\n",
    "    instructions\n",
    "    \"\"\"\n",
    "    from string import digits\n",
    "    \n",
    "    question = prompt[\"instructions\"].split(\".\")[0]\n",
    "\n",
    "    sources = dict()\n",
    "    title = None\n",
    "    for line in prompt[\"source_text\"].split(\"\\n\\n\"):\n",
    "        if line.startswith(\"# \"):\n",
    "            title = line.lstrip(\"# \")\n",
    "            sources[title] = []\n",
    "            continue\n",
    "        assert title, f\"title is not known for line {line.strip()}\"\n",
    "        sources[title].append(line.lstrip(digits).lstrip(\"# \").rstrip())\n",
    "    return question, sources\n",
    "\n",
    "\n",
    "def generate_instructions(prompt, num_pars=2):\n",
    "    \"\"\"\n",
    "    Generate some instructions, subsampling the number\n",
    "    of paragraphs from each source to fit better into \n",
    "    token limits\n",
    "    \"\"\"\n",
    "    question, sources = process_prompt(prompt)\n",
    "\n",
    "    def sample_sources(sources, num_pars):\n",
    "        sampled = []\n",
    "        for s, ps in sources.items():\n",
    "            i = np.random.choice(len(ps) - num_pars)\n",
    "            sampled.append(f\"SOURCE: {s}\")\n",
    "            sampled.extend(ps[i:i+num_pars])\n",
    "        return \"\\n\\n\".join(sampled)\n",
    "\n",
    "    llm_prompt = f\"\"\"\n",
    "    Based on the following sources:\n",
    "\n",
    "    {sample_sources(sources, num_pars)}\n",
    "\n",
    "    {question}, using information from the sources.\n",
    "\n",
    "    ESSAY: Limiting car usage may sound like a controversial idea. After all,\n",
    "    \"\"\"\n",
    "    return llm_prompt"
   ]
  },
  {
   "cell_type": "code",
   "execution_count": 10,
   "id": "2a9435b5-6391-47af-bd5d-3bfa68a1a714",
   "metadata": {},
   "outputs": [],
   "source": [
    "data_dir = Path(getenv(\"HOME\"), \"data\", \"llm-data\", \"ai-generated-essays\")\n",
    "prompts_fp = Path(data_dir, \"train_prompts.csv\")\n",
    "assert prompts_fp.exists()\n",
    "prompts = pd.read_csv(prompts_fp).set_index(\"prompt_id\").to_dict(orient=\"index\")\n",
    "# Prompts: prompt_name, instructions, source_text"
   ]
  },
  {
   "cell_type": "code",
   "execution_count": 83,
   "id": "2a8721b5-d113-4321-b597-c43106753108",
   "metadata": {},
   "outputs": [
    {
     "data": {
      "text/plain": [
       "'Write an explanatory essay to inform fellow citizens about the advantages of limiting car usage. Your essay must be based on ideas and information that can be found in the passage set. Manage your time carefully so that you can read the passages; plan your response; write your response; and revise and edit your response. Be sure to use evidence from multiple sources; and avoid overly relying on one source. Your response should be in the form of a multiparagraph essay. Write your essay in the space provided.'"
      ]
     },
     "execution_count": 83,
     "metadata": {},
     "output_type": "execute_result"
    }
   ],
   "source": [
    "prompts[0][\"instructions\"]"
   ]
  },
  {
   "cell_type": "code",
   "execution_count": 38,
   "id": "2f4ee477-5730-4ad5-92e6-6bc8a68124e5",
   "metadata": {},
   "outputs": [
    {
     "name": "stdout",
     "output_type": "stream",
     "text": [
      "2180\n",
      "2046\n"
     ]
    }
   ],
   "source": [
    "for _, p in prompts.items():\n",
    "    print(len(p[\"source_text\"].split()))"
   ]
  },
  {
   "cell_type": "code",
   "execution_count": 13,
   "id": "49b749db-4ecd-444b-8fbf-846b796bfdd2",
   "metadata": {},
   "outputs": [],
   "source": [
    "essays_fp = Path(data_dir, \"train_essays.csv\")\n",
    "assert essays_fp.exists()\n",
    "essays = pd.read_csv(essays_fp)"
   ]
  },
  {
   "cell_type": "code",
   "execution_count": 21,
   "id": "9ce994ab-6a11-4678-8109-d9d1ad249bde",
   "metadata": {},
   "outputs": [
    {
     "data": {
      "text/html": [
       "<div>\n",
       "<style scoped>\n",
       "    .dataframe tbody tr th:only-of-type {\n",
       "        vertical-align: middle;\n",
       "    }\n",
       "\n",
       "    .dataframe tbody tr th {\n",
       "        vertical-align: top;\n",
       "    }\n",
       "\n",
       "    .dataframe thead th {\n",
       "        text-align: right;\n",
       "    }\n",
       "</style>\n",
       "<table border=\"1\" class=\"dataframe\">\n",
       "  <thead>\n",
       "    <tr style=\"text-align: right;\">\n",
       "      <th></th>\n",
       "      <th>id</th>\n",
       "      <th>prompt_id</th>\n",
       "      <th>text</th>\n",
       "      <th>generated</th>\n",
       "    </tr>\n",
       "  </thead>\n",
       "  <tbody>\n",
       "    <tr>\n",
       "      <th>0</th>\n",
       "      <td>0059830c</td>\n",
       "      <td>0</td>\n",
       "      <td>Cars. Cars have been around since they became ...</td>\n",
       "      <td>0</td>\n",
       "    </tr>\n",
       "  </tbody>\n",
       "</table>\n",
       "</div>"
      ],
      "text/plain": [
       "         id  prompt_id                                               text  \\\n",
       "0  0059830c          0  Cars. Cars have been around since they became ...   \n",
       "\n",
       "   generated  \n",
       "0          0  "
      ]
     },
     "execution_count": 21,
     "metadata": {},
     "output_type": "execute_result"
    }
   ],
   "source": [
    "essays.head(1)"
   ]
  },
  {
   "cell_type": "code",
   "execution_count": 23,
   "id": "6b85f95c-43ce-4f96-8a79-1ab0681ee135",
   "metadata": {},
   "outputs": [
    {
     "name": "stdout",
     "output_type": "stream",
     "text": [
      "Dear State Senator, After experiencing the dispute over the outcome of an Electoral College vote in 2000 I realized that the Electoral College is an old fashioned and unfair voting system for our next presidents. The vote of all United States citizens should be taken account but with each state only getting a single vote it is highly unethical for a state with 500,000 voters like Wyoming and a state with 35 million voters like California having the same amount of votes.\n",
      "\n",
      "The candidates who of course want to win will want to spend there time campaigning in states they think they have a chance of winning over but what about states that they do not think will vote for them? States like South Carolina and Rhode Island during the 2000 campaign didn't even see the candidates at all. This all because of the winner take all system established in the Electoral College.\n",
      "\n",
      "There are people who still support the electoral college but on what end? They say it has a more certainty of outcome but there have been past cases where the electoral college almost hit a tie. In my opinion the odds of default outcome in Electoral College is the same as the odds there would be in popular vote for the United States Past presidents like Bod Dole, Richard Nixon, and Jimmy Carter even agreed to destroy the Electoral College. If even presidents want to abolish the Electoral College then what is stopping us from doing so. It's time we make a change to this irrational way of voting and start valuing the opinions of each United States citizen. The only way to do this is to start having direct elections and stop using the Electoral College way of voting. I am positive that this will have a positive affect on how people look up to the government because it will finally make them feel that the government values there opinions.\n"
     ]
    }
   ],
   "source": [
    "print(essays.query(\"generated == 0\").sample(1).text.iloc[0])"
   ]
  },
  {
   "cell_type": "code",
   "execution_count": 20,
   "id": "f0a39344-18a9-43ea-b7ad-ac45dc7a203f",
   "metadata": {},
   "outputs": [
    {
     "data": {
      "image/png": "[encoded data removed]",
      "text/plain": [
       "<Figure size 640x480 with 1 Axes>"
      ]
     },
     "metadata": {},
     "output_type": "display_data"
    }
   ],
   "source": [
    "essay_lengths = essays.text.str.split().str.len()\n",
    "plt.hist(essay_lengths, bins=50)\n",
    "plt.xlabel(\"essay length\")\n",
    "plt.ylabel(\"count\")\n",
    "plt.show()"
   ]
  },
  {
   "cell_type": "markdown",
   "id": "c4ef2b1d-d1c5-4339-b389-4cceaf66ec98",
   "metadata": {},
   "source": [
    "## Essay Generation"
   ]
  },
  {
   "cell_type": "code",
   "execution_count": 155,
   "id": "7d6792f2-fddd-4b6f-9492-90677aea43fb",
   "metadata": {},
   "outputs": [],
   "source": [
    "class EssayGenerator:\n",
    "    def __init__(self, model, tokenizer):\n",
    "        self.model = model\n",
    "        self.tokenizer = tokenizer\n",
    "\n",
    "    def generate_from_prompt(self, prompt, **kwargs):\n",
    "        prompt_tokens = self.tokenizer(prompt, return_tensors=\"pt\")\n",
    "        completion = self.model.generate(\n",
    "            **prompt_tokens, \n",
    "            do_sample=True,\n",
    "            **kwargs\n",
    "        )\n",
    "        return self.tokenizer.decode(\n",
    "            completion[0],\n",
    "            skip_special_tokens=True,\n",
    "        )\n",
    "\n",
    "\n",
    "class InstructionGenerator:\n",
    "    @classmethod\n",
    "    def generate_with_human_intro(\n",
    "        cls, prompt, examples, length=16\n",
    "    ):\n",
    "        intro = examples.sample(1).text.iloc[0]\n",
    "        intro = \" \".join(intro.split()[:length])\n",
    "        return f\"{prompt}\\n\\n{intro}\""
   ]
  },
  {
   "cell_type": "code",
   "execution_count": 152,
   "id": "ea13688d-fd1b-4719-b1a5-cc22594a2df7",
   "metadata": {},
   "outputs": [],
   "source": [
    "gpt_model = GPT2LMHeadModel.from_pretrained(\"gpt2\")\n",
    "gpt_tokenizer = GPT2TokenizerFast.from_pretrained(\"gpt2\")\n",
    "\n",
    "t5_model = AutoModelForSeq2SeqLM.from_pretrained(\"google/flan-t5-base\")\n",
    "t5_tokenizer = AutoTokenizer.from_pretrained(\"google/flan-t5-base\")"
   ]
  },
  {
   "cell_type": "code",
   "execution_count": 161,
   "id": "c384dbde-63ee-413b-a37e-3da4877d223d",
   "metadata": {},
   "outputs": [],
   "source": [
    "prompt = InstructionGenerator.generate_with_human_intro(\n",
    "    prompts[0][\"instructions\"], essays.query(\"prompt_id == 0\")\n",
    ")"
   ]
  },
  {
   "cell_type": "code",
   "execution_count": 164,
   "id": "5b212c48-c792-425a-8d20-5d17655edf05",
   "metadata": {},
   "outputs": [
    {
     "data": {
      "text/plain": [
       "'Write an explanatory essay to inform fellow citizens about the advantages of limiting car usage. Your essay must be based on ideas and information that can be found in the passage set. Manage your time carefully so that you can read the passages; plan your response; write your response; and revise and edit your response. Be sure to use evidence from multiple sources; and avoid overly relying on one source. Your response should be in the form of a multiparagraph essay. Write your essay in the space provided.\\n\\nA life filled to the brim of better days is what we all want, and limiting'"
      ]
     },
     "execution_count": 164,
     "metadata": {},
     "output_type": "execute_result"
    }
   ],
   "source": [
    "prompt"
   ]
  },
  {
   "cell_type": "code",
   "execution_count": 166,
   "id": "4c9ff33e-57dc-459b-b59e-e8ca3f3f020e",
   "metadata": {},
   "outputs": [],
   "source": [
    "genr = EssayGenerator(gpt_model, gpt_tokenizer)"
   ]
  },
  {
   "cell_type": "code",
   "execution_count": 171,
   "id": "0b6f63fa-d64f-435d-bcbe-b9e7dbedfc07",
   "metadata": {},
   "outputs": [
    {
     "name": "stderr",
     "output_type": "stream",
     "text": [
      "Setting `pad_token_id` to `eos_token_id`:50256 for open-end generation.\n"
     ]
    },
    {
     "name": "stdout",
     "output_type": "stream",
     "text": [
      "Write an explanatory essay to inform fellow citizens about the advantages of limiting car usage. Your essay must be based on ideas and information that can be found in the passage set. Manage your time carefully so that you can read the passages; plan your response; write your response; and revise and edit your response. Be sure to use evidence from multiple sources; and avoid overly relying on one source. Your response should be in the form of a multiparagraph essay. Write your essay in the space provided.\n",
      "\n",
      "A life filled to the brim of better days is what we all want, and limiting car use is the best way to do it.\n",
      "\n",
      "In addition to driving to work, you can also spend some time with your children.\n",
      "\n",
      "I can't tell you how much more important it is to you that you do so, because you, the reader, are responsible for putting together a life filled with good health, happiness, and education, and that your children are not just your children's children.\n",
      "\n",
      "This post was written for the 2012 State of the Union address organized by the Center for Economic Growth, which was delivered June 12-16, 2012. It is a reminder that if you are at the top of your game, your children's lives will be not only exciting, but also important.\n",
      "\n",
      "Please leave a review on the blog.\n",
      "\n",
      "Follow us on Twitter!\n",
      "\n",
      "Subscribe on YouTube!\n",
      "\n",
      "Follow us on Tumblr!\n",
      "\n",
      "Follow you on Facebook!\n",
      "\n",
      "View our Facebook page here.\n",
      "CPU times: user 30.4 s, sys: 3.51 s, total: 33.9 s\n",
      "Wall time: 8.54 s\n"
     ]
    }
   ],
   "source": [
    "%%time\n",
    "print(genr.generate_from_prompt(\n",
    "    prompt,\n",
    "    max_new_tokens=500,\n",
    "    temperature=0.8\n",
    "))"
   ]
  },
  {
   "cell_type": "code",
   "execution_count": 176,
   "id": "97b3177d-c77d-479d-9d92-040fe9ebdd3e",
   "metadata": {},
   "outputs": [
    {
     "data": {
      "text/plain": [
       "512"
      ]
     },
     "execution_count": 176,
     "metadata": {},
     "output_type": "execute_result"
    }
   ],
   "source": [
    "t5_model.config.n_positions"
   ]
  },
  {
   "cell_type": "code",
   "execution_count": 178,
   "id": "4ee71316-3dd1-41bd-9f3f-819f5726710d",
   "metadata": {},
   "outputs": [
    {
     "data": {
      "text/plain": [
       "True"
      ]
     },
     "execution_count": 178,
     "metadata": {},
     "output_type": "execute_result"
    }
   ],
   "source": [
    "hasattr(t5_model.config, \"n_positions\")"
   ]
  },
  {
   "cell_type": "code",
   "execution_count": null,
   "id": "312afb65-31a5-4f35-bd4d-f705670836be",
   "metadata": {},
   "outputs": [],
   "source": []
  }
 ],
 "metadata": {
  "kernelspec": {
   "display_name": "Python 3 (ipykernel)",
   "language": "python",
   "name": "python3"
  },
  "language_info": {
   "codemirror_mode": {
    "name": "ipython",
    "version": 3
   },
   "file_extension": ".py",
   "mimetype": "text/x-python",
   "name": "python",
   "nbconvert_exporter": "python",
   "pygments_lexer": "ipython3",
   "version": "3.11.5"
  }
 },
 "nbformat": 4,
 "nbformat_minor": 5
}
