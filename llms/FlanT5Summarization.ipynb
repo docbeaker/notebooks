{
 "cells": [
  {
   "cell_type": "code",
   "execution_count": 19,
   "id": "6519bde1-0e16-4404-8031-194e59580398",
   "metadata": {},
   "outputs": [],
   "source": [
    "from transformers import AutoModelForSeq2SeqLM, AutoTokenizer, GenerationConfig\n",
    "\n",
    "model = AutoModelForSeq2SeqLM.from_pretrained(\"google/flan-t5-small\")\n",
    "tokenizer = AutoTokenizer.from_pretrained(\"google/flan-t5-small\")"
   ]
  },
  {
   "cell_type": "code",
   "execution_count": 20,
   "id": "09ec4bdd-e3a6-4dbe-9fbd-37bead8ccdae",
   "metadata": {},
   "outputs": [
    {
     "data": {
      "text/plain": [
       "'<pad> Pour a cup of bolognese into a large bowl and add the pasta to the bowl.</s>'"
      ]
     },
     "execution_count": 20,
     "metadata": {},
     "output_type": "execute_result"
    }
   ],
   "source": [
    "inputs = tokenizer(\"A step by step recipe to make bolognese pasta:\", return_tensors=\"pt\")\n",
    "tokenizer.decode(model.generate(\n",
    "    inputs[\"input_ids\"], max_new_tokens=30\n",
    ")[0], skip_special_tokens=False)"
   ]
  },
  {
   "cell_type": "code",
   "execution_count": 38,
   "id": "e1eb197c-b756-420d-8cc9-db405aae0230",
   "metadata": {},
   "outputs": [],
   "source": [
    "config = GenerationConfig(\n",
    "    max_new_tokens=50,\n",
    "    do_sample=True,\n",
    "    temperature=0.5\n",
    ")"
   ]
  },
  {
   "cell_type": "code",
   "execution_count": 39,
   "id": "5c4b3955-10f8-4e6d-9f0f-be113c36174e",
   "metadata": {},
   "outputs": [
    {
     "data": {
      "text/plain": [
       "'Scott Pilgrim vs. the World is a story about a fictional superhero who is portrayed by a superhero.'"
      ]
     },
     "execution_count": 39,
     "metadata": {},
     "output_type": "execute_result"
    }
   ],
   "source": [
    "inputs = tokenizer(\n",
    "    f\"\"\"\n",
    "    Provide a summary of the following paragraph:\n",
    "    \n",
    "    The Scott Pilgrim series received highly positive reviews and boasts a large \n",
    "    fanbase. A film adaptation of the series titled Scott Pilgrim vs. the World, \n",
    "    directed by Edgar Wright, was released in August 2010. A video game adaptation \n",
    "    developed by Ubisoft for PlayStation Network and Xbox Live Arcade was released \n",
    "    the same month. An animated series adaptation titled Scott Pilgrim Takes Off \n",
    "    released on Netflix in November 2023, with the cast of the 2010 film reprising \n",
    "    their roles, O'Malley writing the script, and Wright serving as an executive \n",
    "    producer.[5][6] Because each adaptation in the franchise covers the same story \n",
    "    as the graphic novels, but with slight changes between each of them, Scott \n",
    "    Pilgrim has been widely discussed as an example of transmedia storytelling.\n",
    "\n",
    "    Summary:\n",
    "    \"\"\",\n",
    "    return_tensors=\"pt\"\n",
    ")\n",
    "\n",
    "tokenizer.decode(\n",
    "    model.generate(\n",
    "        inputs[\"input_ids\"],\n",
    "        generation_config=config\n",
    "    )[0], \n",
    "    skip_special_tokens=True\n",
    ")"
   ]
  },
  {
   "cell_type": "code",
   "execution_count": 40,
   "id": "3278c5e5-72cc-4559-a067-c7e611cd808c",
   "metadata": {},
   "outputs": [
    {
     "data": {
      "text/plain": [
       "'Scott Pilgrim is a cult classic and has been a hit on the TV series.'"
      ]
     },
     "execution_count": 40,
     "metadata": {},
     "output_type": "execute_result"
    }
   ],
   "source": [
    "inputs = tokenizer(\n",
    "    f\"\"\"\n",
    "    Provide a summary of the following:\n",
    "\n",
    "    One Piece has received praise for its storytelling, world-building, art, \n",
    "    characterization, and humor. It has received many awards and is ranked by \n",
    "    critics, reviewers, and readers as one of the best manga of all time. By \n",
    "    August 2022, it had over 516.6 million copies in circulation in 61 countries \n",
    "    and regions worldwide, making it the best-selling manga series in history, \n",
    "    and the best-selling comic series printed in book volume. Several volumes of \n",
    "    the manga have broken publishing records, including the highest initial print \n",
    "    run of any book in Japan.\n",
    "\n",
    "    Summary: \n",
    "    \n",
    "    One Piece is an internationally popular manga that has broken numerous records.\n",
    "\n",
    "    Provide a summary of the following:\n",
    "    \n",
    "    The Scott Pilgrim series received highly positive reviews and boasts a large \n",
    "    fanbase. A film adaptation of the series titled Scott Pilgrim vs. the World, \n",
    "    directed by Edgar Wright, was released in August 2010. A video game adaptation \n",
    "    developed by Ubisoft for PlayStation Network and Xbox Live Arcade was released \n",
    "    the same month. An animated series adaptation titled Scott Pilgrim Takes Off \n",
    "    released on Netflix in November 2023, with the cast of the 2010 film reprising \n",
    "    their roles, O'Malley writing the script, and Wright serving as an executive \n",
    "    producer.[5][6] Because each adaptation in the franchise covers the same story \n",
    "    as the graphic novels, but with slight changes between each of them, Scott \n",
    "    Pilgrim has been widely discussed as an example of transmedia storytelling.\n",
    "\n",
    "    Summary:\n",
    "    \"\"\",\n",
    "    return_tensors=\"pt\"\n",
    ")\n",
    "\n",
    "tokenizer.decode(\n",
    "    model.generate(\n",
    "        inputs[\"input_ids\"],\n",
    "        generation_config=config\n",
    "    )[0], \n",
    "    skip_special_tokens=True\n",
    ")"
   ]
  },
  {
   "cell_type": "code",
   "execution_count": null,
   "id": "812288d9-aa32-40eb-abbc-f8235e7a86b9",
   "metadata": {},
   "outputs": [],
   "source": []
  }
 ],
 "metadata": {
  "kernelspec": {
   "display_name": "Python 3 (ipykernel)",
   "language": "python",
   "name": "python3"
  },
  "language_info": {
   "codemirror_mode": {
    "name": "ipython",
    "version": 3
   },
   "file_extension": ".py",
   "mimetype": "text/x-python",
   "name": "python",
   "nbconvert_exporter": "python",
   "pygments_lexer": "ipython3",
   "version": "3.11.5"
  }
 },
 "nbformat": 4,
 "nbformat_minor": 5
}
